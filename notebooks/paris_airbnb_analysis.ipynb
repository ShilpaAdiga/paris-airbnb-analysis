{
 "cells": [
  {
   "cell_type": "code",
   "execution_count": 1,
   "id": "a863f93a",
   "metadata": {},
   "outputs": [],
   "source": [
    "import pandas as pd\n",
    "import numpy as np\n",
    "import matplotlib.pyplot as plt\n",
    "import seaborn as sns"
   ]
  },
  {
   "cell_type": "code",
   "execution_count": 2,
   "id": "3423a8a5",
   "metadata": {},
   "outputs": [
    {
     "data": {
      "text/plain": [
       "(86064, 18)"
      ]
     },
     "execution_count": 2,
     "metadata": {},
     "output_type": "execute_result"
    }
   ],
   "source": [
    "# Display settings\n",
    "pd.set_option('display.max_columns', None)\n",
    "sns.set(style='whitegrid', palette='muted')\n",
    "\n",
    "# Load dataset\n",
    "df = pd.read_csv('../data/listings.csv')\n",
    "df.shape"
   ]
  },
  {
   "cell_type": "code",
   "execution_count": 3,
   "id": "3de4733e",
   "metadata": {},
   "outputs": [
    {
     "data": {
      "text/html": [
       "<div>\n",
       "<style scoped>\n",
       "    .dataframe tbody tr th:only-of-type {\n",
       "        vertical-align: middle;\n",
       "    }\n",
       "\n",
       "    .dataframe tbody tr th {\n",
       "        vertical-align: top;\n",
       "    }\n",
       "\n",
       "    .dataframe thead th {\n",
       "        text-align: right;\n",
       "    }\n",
       "</style>\n",
       "<table border=\"1\" class=\"dataframe\">\n",
       "  <thead>\n",
       "    <tr style=\"text-align: right;\">\n",
       "      <th></th>\n",
       "      <th>id</th>\n",
       "      <th>name</th>\n",
       "      <th>host_id</th>\n",
       "      <th>host_name</th>\n",
       "      <th>neighbourhood_group</th>\n",
       "      <th>neighbourhood</th>\n",
       "      <th>latitude</th>\n",
       "      <th>longitude</th>\n",
       "      <th>room_type</th>\n",
       "      <th>price</th>\n",
       "      <th>minimum_nights</th>\n",
       "      <th>number_of_reviews</th>\n",
       "      <th>last_review</th>\n",
       "      <th>reviews_per_month</th>\n",
       "      <th>calculated_host_listings_count</th>\n",
       "      <th>availability_365</th>\n",
       "      <th>number_of_reviews_ltm</th>\n",
       "      <th>license</th>\n",
       "    </tr>\n",
       "  </thead>\n",
       "  <tbody>\n",
       "    <tr>\n",
       "      <th>0</th>\n",
       "      <td>3109</td>\n",
       "      <td>zen and calm</td>\n",
       "      <td>3631</td>\n",
       "      <td>Anne</td>\n",
       "      <td>NaN</td>\n",
       "      <td>Observatoire</td>\n",
       "      <td>48.83191</td>\n",
       "      <td>2.31870</td>\n",
       "      <td>Entire home/apt</td>\n",
       "      <td>100.0</td>\n",
       "      <td>2</td>\n",
       "      <td>4</td>\n",
       "      <td>2019-10-24</td>\n",
       "      <td>0.04</td>\n",
       "      <td>1</td>\n",
       "      <td>356</td>\n",
       "      <td>0</td>\n",
       "      <td>7511409139079</td>\n",
       "    </tr>\n",
       "    <tr>\n",
       "      <th>1</th>\n",
       "      <td>5396</td>\n",
       "      <td>Your perfect Paris studio on Île Saint-Louis</td>\n",
       "      <td>7903</td>\n",
       "      <td>Borzou</td>\n",
       "      <td>NaN</td>\n",
       "      <td>Hôtel-de-Ville</td>\n",
       "      <td>48.85247</td>\n",
       "      <td>2.35835</td>\n",
       "      <td>Entire home/apt</td>\n",
       "      <td>97.0</td>\n",
       "      <td>1</td>\n",
       "      <td>435</td>\n",
       "      <td>2025-02-16</td>\n",
       "      <td>2.28</td>\n",
       "      <td>1</td>\n",
       "      <td>114</td>\n",
       "      <td>45</td>\n",
       "      <td>7510402838018</td>\n",
       "    </tr>\n",
       "    <tr>\n",
       "      <th>2</th>\n",
       "      <td>7397</td>\n",
       "      <td>MARAIS - 2ROOMS APT - 2/4 PEOPLE</td>\n",
       "      <td>2626</td>\n",
       "      <td>Franck</td>\n",
       "      <td>NaN</td>\n",
       "      <td>Hôtel-de-Ville</td>\n",
       "      <td>48.85909</td>\n",
       "      <td>2.35315</td>\n",
       "      <td>Entire home/apt</td>\n",
       "      <td>129.0</td>\n",
       "      <td>10</td>\n",
       "      <td>373</td>\n",
       "      <td>2025-02-26</td>\n",
       "      <td>2.20</td>\n",
       "      <td>1</td>\n",
       "      <td>188</td>\n",
       "      <td>25</td>\n",
       "      <td>7510400829623</td>\n",
       "    </tr>\n",
       "    <tr>\n",
       "      <th>3</th>\n",
       "      <td>7964</td>\n",
       "      <td>Sunny apartment with balcony</td>\n",
       "      <td>22155</td>\n",
       "      <td>Anaïs</td>\n",
       "      <td>NaN</td>\n",
       "      <td>Opéra</td>\n",
       "      <td>48.87417</td>\n",
       "      <td>2.34245</td>\n",
       "      <td>Entire home/apt</td>\n",
       "      <td>NaN</td>\n",
       "      <td>7</td>\n",
       "      <td>5</td>\n",
       "      <td>2015-09-14</td>\n",
       "      <td>0.03</td>\n",
       "      <td>1</td>\n",
       "      <td>0</td>\n",
       "      <td>0</td>\n",
       "      <td>7510903576564</td>\n",
       "    </tr>\n",
       "    <tr>\n",
       "      <th>4</th>\n",
       "      <td>9359</td>\n",
       "      <td>Cozy, Central Paris: WALK or VELIB EVERYWHERE !</td>\n",
       "      <td>28422</td>\n",
       "      <td>Bernadette</td>\n",
       "      <td>NaN</td>\n",
       "      <td>Louvre</td>\n",
       "      <td>48.86006</td>\n",
       "      <td>2.34863</td>\n",
       "      <td>Entire home/apt</td>\n",
       "      <td>75.0</td>\n",
       "      <td>180</td>\n",
       "      <td>0</td>\n",
       "      <td>NaN</td>\n",
       "      <td>NaN</td>\n",
       "      <td>1</td>\n",
       "      <td>358</td>\n",
       "      <td>0</td>\n",
       "      <td>Available with a mobility lease only (\"bail mo...</td>\n",
       "    </tr>\n",
       "  </tbody>\n",
       "</table>\n",
       "</div>"
      ],
      "text/plain": [
       "     id                                             name  host_id   host_name  \\\n",
       "0  3109                                     zen and calm     3631        Anne   \n",
       "1  5396     Your perfect Paris studio on Île Saint-Louis     7903      Borzou   \n",
       "2  7397                 MARAIS - 2ROOMS APT - 2/4 PEOPLE     2626      Franck   \n",
       "3  7964                     Sunny apartment with balcony    22155       Anaïs   \n",
       "4  9359  Cozy, Central Paris: WALK or VELIB EVERYWHERE !    28422  Bernadette   \n",
       "\n",
       "   neighbourhood_group   neighbourhood  latitude  longitude        room_type  \\\n",
       "0                  NaN    Observatoire  48.83191    2.31870  Entire home/apt   \n",
       "1                  NaN  Hôtel-de-Ville  48.85247    2.35835  Entire home/apt   \n",
       "2                  NaN  Hôtel-de-Ville  48.85909    2.35315  Entire home/apt   \n",
       "3                  NaN           Opéra  48.87417    2.34245  Entire home/apt   \n",
       "4                  NaN          Louvre  48.86006    2.34863  Entire home/apt   \n",
       "\n",
       "   price  minimum_nights  number_of_reviews last_review  reviews_per_month  \\\n",
       "0  100.0               2                  4  2019-10-24               0.04   \n",
       "1   97.0               1                435  2025-02-16               2.28   \n",
       "2  129.0              10                373  2025-02-26               2.20   \n",
       "3    NaN               7                  5  2015-09-14               0.03   \n",
       "4   75.0             180                  0         NaN                NaN   \n",
       "\n",
       "   calculated_host_listings_count  availability_365  number_of_reviews_ltm  \\\n",
       "0                               1               356                      0   \n",
       "1                               1               114                     45   \n",
       "2                               1               188                     25   \n",
       "3                               1                 0                      0   \n",
       "4                               1               358                      0   \n",
       "\n",
       "                                             license  \n",
       "0                                      7511409139079  \n",
       "1                                      7510402838018  \n",
       "2                                      7510400829623  \n",
       "3                                      7510903576564  \n",
       "4  Available with a mobility lease only (\"bail mo...  "
      ]
     },
     "execution_count": 3,
     "metadata": {},
     "output_type": "execute_result"
    }
   ],
   "source": [
    "# Preview\n",
    "df.head()"
   ]
  },
  {
   "cell_type": "code",
   "execution_count": 4,
   "id": "2c26a211",
   "metadata": {},
   "outputs": [
    {
     "name": "stdout",
     "output_type": "stream",
     "text": [
      "<class 'pandas.core.frame.DataFrame'>\n",
      "RangeIndex: 86064 entries, 0 to 86063\n",
      "Data columns (total 18 columns):\n",
      " #   Column                          Non-Null Count  Dtype  \n",
      "---  ------                          --------------  -----  \n",
      " 0   id                              86064 non-null  int64  \n",
      " 1   name                            86064 non-null  object \n",
      " 2   host_id                         86064 non-null  int64  \n",
      " 3   host_name                       86023 non-null  object \n",
      " 4   neighbourhood_group             0 non-null      float64\n",
      " 5   neighbourhood                   86064 non-null  object \n",
      " 6   latitude                        86064 non-null  float64\n",
      " 7   longitude                       86064 non-null  float64\n",
      " 8   room_type                       86064 non-null  object \n",
      " 9   price                           55655 non-null  float64\n",
      " 10  minimum_nights                  86064 non-null  int64  \n",
      " 11  number_of_reviews               86064 non-null  int64  \n",
      " 12  last_review                     64270 non-null  object \n",
      " 13  reviews_per_month               64270 non-null  float64\n",
      " 14  calculated_host_listings_count  86064 non-null  int64  \n",
      " 15  availability_365                86064 non-null  int64  \n",
      " 16  number_of_reviews_ltm           86064 non-null  int64  \n",
      " 17  license                         68046 non-null  object \n",
      "dtypes: float64(5), int64(7), object(6)\n",
      "memory usage: 11.8+ MB\n"
     ]
    }
   ],
   "source": [
    "# Info summary\n",
    "df.info()"
   ]
  },
  {
   "cell_type": "code",
   "execution_count": 5,
   "id": "7619cb91",
   "metadata": {},
   "outputs": [
    {
     "data": {
      "text/plain": [
       "neighbourhood_group               86064\n",
       "price                             30409\n",
       "reviews_per_month                 21794\n",
       "last_review                       21794\n",
       "license                           18018\n",
       "host_name                            41\n",
       "neighbourhood                         0\n",
       "latitude                              0\n",
       "longitude                             0\n",
       "room_type                             0\n",
       "name                                  0\n",
       "minimum_nights                        0\n",
       "number_of_reviews                     0\n",
       "host_id                               0\n",
       "calculated_host_listings_count        0\n",
       "availability_365                      0\n",
       "number_of_reviews_ltm                 0\n",
       "id                                    0\n",
       "dtype: int64"
      ]
     },
     "execution_count": 5,
     "metadata": {},
     "output_type": "execute_result"
    }
   ],
   "source": [
    "# Null counts\n",
    "df.isnull().sum().sort_values(ascending=False)"
   ]
  },
  {
   "cell_type": "code",
   "execution_count": 6,
   "id": "c726e1c1",
   "metadata": {},
   "outputs": [],
   "source": [
    "# Clean 'price' column if it's a string with commas or $\n",
    "df['price'] = df['price'].replace('[\\$,]', '', regex=True).astype(float)"
   ]
  },
  {
   "cell_type": "code",
   "execution_count": 7,
   "id": "e3132c77",
   "metadata": {},
   "outputs": [],
   "source": [
    "# Optional: convert date columns\n",
    "if 'last_review' in df.columns:\n",
    "    df['last_review'] = pd.to_datetime(df['last_review'])"
   ]
  },
  {
   "cell_type": "code",
   "execution_count": 8,
   "id": "26051400",
   "metadata": {},
   "outputs": [],
   "source": [
    "# Drop unnecessary columns (customize as needed)\n",
    "drop_cols = ['neighbourhood_group', 'license', 'scrape_id', 'calendar_last_scraped']\n",
    "df.drop(columns=[col for col in drop_cols if col in df.columns], inplace=True)"
   ]
  },
  {
   "cell_type": "markdown",
   "id": "42eda904",
   "metadata": {},
   "source": [
    "EDA"
   ]
  },
  {
   "cell_type": "code",
   "execution_count": 9,
   "id": "751fd578",
   "metadata": {},
   "outputs": [
    {
     "data": {
      "text/plain": [
       "Text(0.5, 0, 'Price (€)')"
      ]
     },
     "execution_count": 9,
     "metadata": {},
     "output_type": "execute_result"
    },
    {
     "data": {
      "image/png": "[encoded data removed]",
      "text/plain": [
       "<Figure size 1000x600 with 1 Axes>"
      ]
     },
     "metadata": {},
     "output_type": "display_data"
    }
   ],
   "source": [
    "# Price distrobution\n",
    "plt.figure(figsize=(10, 6))\n",
    "sns.histplot(df['price'], bins=100, kde=True)\n",
    "plt.title('Price Distribution (All Listings)')\n",
    "plt.xlim(0, 500)  # Limit to reduce outliers\n",
    "plt.xlabel('Price (€)')"
   ]
  },
  {
   "cell_type": "code",
   "execution_count": 10,
   "id": "9c105164",
   "metadata": {},
   "outputs": [
    {
     "data": {
      "text/plain": [
       "Text(0.5, 0, 'Average Price (€)')"
      ]
     },
     "execution_count": 10,
     "metadata": {},
     "output_type": "execute_result"
    },
    {
     "data": {
      "image/png": "[encoded data removed]",
      "text/plain": [
       "<Figure size 800x400 with 1 Axes>"
      ]
     },
     "metadata": {},
     "output_type": "display_data"
    }
   ],
   "source": [
    "# Average Price by Room Type\n",
    "room_price = df.groupby('room_type')['price'].mean().sort_values()\n",
    "room_price.plot(kind='barh', figsize=(8, 4), title='Avg Price by Room Type')\n",
    "plt.xlabel('Average Price (€)')"
   ]
  },
  {
   "cell_type": "code",
   "execution_count": 11,
   "id": "32c8ce28",
   "metadata": {},
   "outputs": [
    {
     "data": {
      "text/html": [
       "<div>\n",
       "<style scoped>\n",
       "    .dataframe tbody tr th:only-of-type {\n",
       "        vertical-align: middle;\n",
       "    }\n",
       "\n",
       "    .dataframe tbody tr th {\n",
       "        vertical-align: top;\n",
       "    }\n",
       "\n",
       "    .dataframe thead th {\n",
       "        text-align: right;\n",
       "    }\n",
       "</style>\n",
       "<table border=\"1\" class=\"dataframe\">\n",
       "  <thead>\n",
       "    <tr style=\"text-align: right;\">\n",
       "      <th></th>\n",
       "      <th>name</th>\n",
       "      <th>neighbourhood</th>\n",
       "      <th>room_type</th>\n",
       "      <th>price</th>\n",
       "    </tr>\n",
       "  </thead>\n",
       "  <tbody>\n",
       "    <tr>\n",
       "      <th>60634</th>\n",
       "      <td>Paris Centre Montorgeuil ,Pompidou,marais</td>\n",
       "      <td>Louvre</td>\n",
       "      <td>Entire home/apt</td>\n",
       "      <td>30400.0</td>\n",
       "    </tr>\n",
       "    <tr>\n",
       "      <th>6662</th>\n",
       "      <td>indisponible</td>\n",
       "      <td>Buttes-Chaumont</td>\n",
       "      <td>Entire home/apt</td>\n",
       "      <td>27000.0</td>\n",
       "    </tr>\n",
       "    <tr>\n",
       "      <th>12313</th>\n",
       "      <td>Mini Loft Parisien Roquette CityCosy</td>\n",
       "      <td>Popincourt</td>\n",
       "      <td>Entire home/apt</td>\n",
       "      <td>24200.0</td>\n",
       "    </tr>\n",
       "    <tr>\n",
       "      <th>59847</th>\n",
       "      <td>Appartement Jardin Seguin CityCosy</td>\n",
       "      <td>Buttes-Montmartre</td>\n",
       "      <td>Entire home/apt</td>\n",
       "      <td>24200.0</td>\n",
       "    </tr>\n",
       "    <tr>\n",
       "      <th>66526</th>\n",
       "      <td>Par246 - 3 bedroom apartment facing a garden</td>\n",
       "      <td>Vaugirard</td>\n",
       "      <td>Entire home/apt</td>\n",
       "      <td>24031.0</td>\n",
       "    </tr>\n",
       "    <tr>\n",
       "      <th>66428</th>\n",
       "      <td>Rue braque</td>\n",
       "      <td>Hôtel-de-Ville</td>\n",
       "      <td>Entire home/apt</td>\n",
       "      <td>20000.0</td>\n",
       "    </tr>\n",
       "    <tr>\n",
       "      <th>72582</th>\n",
       "      <td>Par096 - Luxury penthouse on Avenue Montaigne</td>\n",
       "      <td>Élysée</td>\n",
       "      <td>Entire home/apt</td>\n",
       "      <td>18403.0</td>\n",
       "    </tr>\n",
       "    <tr>\n",
       "      <th>44500</th>\n",
       "      <td>1BDR w balcon- Bail mobilité</td>\n",
       "      <td>Popincourt</td>\n",
       "      <td>Entire home/apt</td>\n",
       "      <td>15000.0</td>\n",
       "    </tr>\n",
       "    <tr>\n",
       "      <th>65171</th>\n",
       "      <td>Hôtel Particulier Trocadéro - Tour Eiffel Paris</td>\n",
       "      <td>Passy</td>\n",
       "      <td>Entire home/apt</td>\n",
       "      <td>14497.0</td>\n",
       "    </tr>\n",
       "    <tr>\n",
       "      <th>85887</th>\n",
       "      <td>Par007 - Unique penthouse on top of Palace</td>\n",
       "      <td>Élysée</td>\n",
       "      <td>Entire home/apt</td>\n",
       "      <td>14043.0</td>\n",
       "    </tr>\n",
       "  </tbody>\n",
       "</table>\n",
       "</div>"
      ],
      "text/plain": [
       "                                                  name      neighbourhood  \\\n",
       "60634        Paris Centre Montorgeuil ,Pompidou,marais             Louvre   \n",
       "6662                                      indisponible    Buttes-Chaumont   \n",
       "12313             Mini Loft Parisien Roquette CityCosy         Popincourt   \n",
       "59847               Appartement Jardin Seguin CityCosy  Buttes-Montmartre   \n",
       "66526     Par246 - 3 bedroom apartment facing a garden          Vaugirard   \n",
       "66428                                       Rue braque     Hôtel-de-Ville   \n",
       "72582    Par096 - Luxury penthouse on Avenue Montaigne             Élysée   \n",
       "44500                     1BDR w balcon- Bail mobilité         Popincourt   \n",
       "65171  Hôtel Particulier Trocadéro - Tour Eiffel Paris              Passy   \n",
       "85887       Par007 - Unique penthouse on top of Palace             Élysée   \n",
       "\n",
       "             room_type    price  \n",
       "60634  Entire home/apt  30400.0  \n",
       "6662   Entire home/apt  27000.0  \n",
       "12313  Entire home/apt  24200.0  \n",
       "59847  Entire home/apt  24200.0  \n",
       "66526  Entire home/apt  24031.0  \n",
       "66428  Entire home/apt  20000.0  \n",
       "72582  Entire home/apt  18403.0  \n",
       "44500  Entire home/apt  15000.0  \n",
       "65171  Entire home/apt  14497.0  \n",
       "85887  Entire home/apt  14043.0  "
      ]
     },
     "execution_count": 11,
     "metadata": {},
     "output_type": "execute_result"
    }
   ],
   "source": [
    "# Top 10 Expensive Listings\n",
    "top10 = df.sort_values(by='price', ascending=False)[['name', 'neighbourhood', 'room_type', 'price']].head(10)\n",
    "top10"
   ]
  },
  {
   "cell_type": "code",
   "execution_count": 12,
   "id": "5905c190",
   "metadata": {},
   "outputs": [],
   "source": [
    "df.to_csv('../data/paris_airbnb_cleaned.csv', index=False)"
   ]
  },
  {
   "cell_type": "code",
   "execution_count": null,
   "id": "41f47027",
   "metadata": {},
   "outputs": [],
   "source": []
  }
 ],
 "metadata": {
  "kernelspec": {
   "display_name": "Python 3",
   "language": "python",
   "name": "python3"
  },
  "language_info": {
   "codemirror_mode": {
    "name": "ipython",
    "version": 3
   },
   "file_extension": ".py",
   "mimetype": "text/x-python",
   "name": "python",
   "nbconvert_exporter": "python",
   "pygments_lexer": "ipython3",
   "version": "3.11.2"
  }
 },
 "nbformat": 4,
 "nbformat_minor": 5
}
